{
  "nbformat": 4,
  "nbformat_minor": 0,
  "metadata": {
    "colab": {
      "provenance": [],
      "authorship_tag": "ABX9TyMDhXdz3ywbNuueYeaKC9r9",
      "include_colab_link": true
    },
    "kernelspec": {
      "name": "python3",
      "display_name": "Python 3"
    },
    "language_info": {
      "name": "python"
    }
  },
  "cells": [
    {
      "cell_type": "markdown",
      "metadata": {
        "id": "view-in-github",
        "colab_type": "text"
      },
      "source": [
        "<a href=\"https://colab.research.google.com/github/Ruanvi/SQL/blob/main/Untitled12.ipynb\" target=\"_parent\"><img src=\"https://colab.research.google.com/assets/colab-badge.svg\" alt=\"Open In Colab\"/></a>"
      ]
    },
    {
      "cell_type": "code",
      "execution_count": 3,
      "metadata": {
        "id": "wXvgK6Eygr1b"
      },
      "outputs": [],
      "source": [
        "class Pessoa:\n",
        "  def __init__(self, name):\n",
        "    self.name = name\n",
        "     "
      ]
    },
    {
      "cell_type": "code",
      "source": [
        "pessoa = Pessoa('Evelyn')\n",
        "pessoa.name"
      ],
      "metadata": {
        "colab": {
          "base_uri": "https://localhost:8080/",
          "height": 35
        },
        "id": "Hxw1TxpviEDZ",
        "outputId": "409cbf78-ab00-4d10-d600-890ac57e1a1d"
      },
      "execution_count": 4,
      "outputs": [
        {
          "output_type": "execute_result",
          "data": {
            "text/plain": [
              "'Evelyn'"
            ],
            "application/vnd.google.colaboratory.intrinsic+json": {
              "type": "string"
            }
          },
          "metadata": {},
          "execution_count": 4
        }
      ]
    },
    {
      "cell_type": "code",
      "source": [
        "class MyClass:\n",
        "  def __init__(self, name, age):\n",
        "    self.name = name\n",
        "    self.age = age"
      ],
      "metadata": {
        "id": "FAqEcObLiJJ4"
      },
      "execution_count": 5,
      "outputs": []
    },
    {
      "cell_type": "code",
      "source": [
        "pessoa = MyClass('Evelyn', 19)\n",
        "print(f'{pessoa.name} tem {pessoa.age} anos')\n"
      ],
      "metadata": {
        "colab": {
          "base_uri": "https://localhost:8080/"
        },
        "id": "yhLYEcyiiL4H",
        "outputId": "618b8afc-9b68-4c00-a20c-1c38daacaffa"
      },
      "execution_count": 7,
      "outputs": [
        {
          "output_type": "stream",
          "name": "stdout",
          "text": [
            "Evelyn tem 19 anos\n"
          ]
        }
      ]
    },
    {
      "cell_type": "code",
      "source": [
        "class Pessoa:\n",
        "  def __init__(self, name, age):\n",
        "    self.name = name\n",
        "    self.age = age\n",
        "  def saudacao(self):\n",
        "    print(f'Olá {self.name}!')"
      ],
      "metadata": {
        "id": "hlq_C25KiVwm"
      },
      "execution_count": 8,
      "outputs": []
    },
    {
      "cell_type": "code",
      "source": [
        "pessoa = Pessoa('Verdinha', 23)\n",
        "pessoa.saudacao()\n",
        "     "
      ],
      "metadata": {
        "colab": {
          "base_uri": "https://localhost:8080/"
        },
        "id": "_TFUka_3idsG",
        "outputId": "858c411e-1818-4155-ff3b-d7908e339f42"
      },
      "execution_count": 10,
      "outputs": [
        {
          "output_type": "stream",
          "name": "stdout",
          "text": [
            "Olá Verdinha!\n"
          ]
        }
      ]
    },
    {
      "cell_type": "code",
      "source": [
        "class Funcionario:\n",
        "  def __init__(self, cargo, nome, matricula):\n",
        "    self.cargo = cargo\n",
        "    self.nome = nome\n",
        "    self.matricula = matricula"
      ],
      "metadata": {
        "id": "vvy5YuFBiit4"
      },
      "execution_count": 21,
      "outputs": []
    },
    {
      "cell_type": "code",
      "source": [
        "balco = Funcionario('balconista', 'Evelyn', 100019)\n",
        "print(f'{balco.cargo} com o nome de {balco.nome}, da matricula: {balco.matricula}')\n"
      ],
      "metadata": {
        "colab": {
          "base_uri": "https://localhost:8080/"
        },
        "id": "VERzUy1MjEsn",
        "outputId": "09bc4daf-9d63-4ae9-873e-781d1d0fb7dd"
      },
      "execution_count": 25,
      "outputs": [
        {
          "output_type": "stream",
          "name": "stdout",
          "text": [
            "balconista com o nome de Evelyn, da matricula: 100019\n"
          ]
        }
      ]
    },
    {
      "cell_type": "code",
      "source": [
        "class Cliente:\n",
        "  def __init__(self, nome, idade, sexo):\n",
        "    self.nome = nome\n",
        "    self.idade = idade\n",
        "    self.sexo = sexo\n",
        "  def detalhe(self):\n",
        "    print(f'{self.nome}, {self.idade}, {self.sexo}')"
      ],
      "metadata": {
        "id": "4hLBRFqjlonK"
      },
      "execution_count": 31,
      "outputs": []
    },
    {
      "cell_type": "code",
      "source": [
        "cli = Cliente( 'Evelyn', 19, 'Femenino')\n",
        "cli.detalhe()"
      ],
      "metadata": {
        "colab": {
          "base_uri": "https://localhost:8080/"
        },
        "id": "gSMxTCovmDd6",
        "outputId": "6ba7de75-c082-4cdd-9973-a93fad37d077"
      },
      "execution_count": 32,
      "outputs": [
        {
          "output_type": "stream",
          "name": "stdout",
          "text": [
            "Evelyn, 19, Femenino\n"
          ]
        }
      ]
    },
    {
      "cell_type": "code",
      "source": [
        "class Conta:\n",
        "  def __init__(self, titular, saldo):\n",
        "    self.titular = titular\n",
        "    self.saldo = saldo\n",
        "  def exibeSaldo(self):\n",
        "    print(f'{self.titular} ------ R${self.saldo},00')\n"
      ],
      "metadata": {
        "id": "5NLPhFC-oQH-"
      },
      "execution_count": 48,
      "outputs": []
    },
    {
      "cell_type": "code",
      "source": [
        "cont = Conta('Evelyn', -50)\n",
        "cont.exibeSaldo()"
      ],
      "metadata": {
        "colab": {
          "base_uri": "https://localhost:8080/"
        },
        "id": "4NQSOoj1o5qN",
        "outputId": "f20400ee-0240-4fa7-9213-1ede9472d773"
      },
      "execution_count": 49,
      "outputs": [
        {
          "output_type": "stream",
          "name": "stdout",
          "text": [
            "Evelyn ------ R$-50,00\n"
          ]
        }
      ]
    },
    {
      "cell_type": "code",
      "source": [
        "class Animal:\n",
        "   def __init__(self, nome):\n",
        "    self.nome = nome\n",
        "   def emitirSom(self):\n",
        "    pass\n",
        "\n",
        "class Viado(Animal):\n",
        "  def emititrSom(self):\n",
        "    print('AIIIIIIIIIINNNN VIADO')\n",
        "\n",
        "class Cachorro(Animal):\n",
        "  def emitirSom(self):\n",
        "    print('AUUUUUUUUAUUUUU KRL')"
      ],
      "metadata": {
        "id": "s-Lv3nKFsmoV"
      },
      "execution_count": 59,
      "outputs": []
    },
    {
      "cell_type": "code",
      "source": [
        "viadinho = Viado('Linguede')\n",
        "cachorrinho = Cachorro('Sebastiones')\n",
        "\n",
        "viadinho.emitirSom()\n",
        "cachorrinho.emitirSom()"
      ],
      "metadata": {
        "colab": {
          "base_uri": "https://localhost:8080/"
        },
        "id": "sFsiH3U-to3-",
        "outputId": "d93f6e08-0e9d-44fb-c7b2-6aafa7673507"
      },
      "execution_count": 63,
      "outputs": [
        {
          "output_type": "stream",
          "name": "stdout",
          "text": [
            "AUUUUUUUUAUUUUU KRL\n"
          ]
        }
      ]
    }
  ]
}
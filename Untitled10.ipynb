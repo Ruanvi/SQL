{
  "nbformat": 4,
  "nbformat_minor": 0,
  "metadata": {
    "colab": {
      "provenance": [],
      "authorship_tag": "ABX9TyOBFYbPMdSVex8YuV0yco6F",
      "include_colab_link": true
    },
    "kernelspec": {
      "name": "python3",
      "display_name": "Python 3"
    },
    "language_info": {
      "name": "python"
    }
  },
  "cells": [
    {
      "cell_type": "markdown",
      "metadata": {
        "id": "view-in-github",
        "colab_type": "text"
      },
      "source": [
        "<a href=\"https://colab.research.google.com/github/Ruanvi/SQL/blob/main/Untitled10.ipynb\" target=\"_parent\"><img src=\"https://colab.research.google.com/assets/colab-badge.svg\" alt=\"Open In Colab\"/></a>"
      ]
    },
    {
      "cell_type": "markdown",
      "source": [
        "Revisão"
      ],
      "metadata": {
        "id": "7I8ok5D-TUzr"
      }
    },
    {
      "cell_type": "code",
      "source": [
        "# Tipos primitivos de dados \n",
        "\n",
        "#40 TVs ------> int\n",
        "#R$1250.37 -------> float\n",
        "#sim -------> bool\n",
        "#Aduano -------> string\n"
      ],
      "metadata": {
        "id": "Md-plGB2TXAq"
      },
      "execution_count": null,
      "outputs": []
    },
    {
      "cell_type": "code",
      "source": [
        "#Pegar os numeros de uma lista\n",
        "#Criar outra lista com o dobro\n",
        "\n",
        "nums = [6, 5, 2, 1, 7]\n"
      ],
      "metadata": {
        "id": "iHb3hvuUbfei"
      },
      "execution_count": null,
      "outputs": []
    },
    {
      "cell_type": "code",
      "source": [
        "#MAP map(função, iteravel)\n",
        "nums = [6, 5, 2, 1, 7]\n",
        "newList = list(map(lambda x: x**2))"
      ],
      "metadata": {
        "id": "3hBd7nBfbpCy"
      },
      "execution_count": null,
      "outputs": []
    },
    {
      "cell_type": "code",
      "source": [
        "#Recebe os valores de uma lista numerica e\n",
        "#Retorna o quadrado de cada numero\n",
        "\n",
        "listah = [2, 4, 6, 8, 10]"
      ],
      "metadata": {
        "id": "LbDoXZLPn8NS"
      },
      "execution_count": null,
      "outputs": []
    },
    {
      "cell_type": "code",
      "source": [
        "\n",
        "listah = list(map(lambda x: x**2, listah))\n",
        "listah"
      ],
      "metadata": {
        "colab": {
          "base_uri": "https://localhost:8080/"
        },
        "id": "31RLNFS2pUKK",
        "outputId": "310a796b-709f-4fe4-9b81-6759643419c6"
      },
      "execution_count": null,
      "outputs": [
        {
          "output_type": "execute_result",
          "data": {
            "text/plain": [
              "[4, 16, 36, 64, 100]"
            ]
          },
          "metadata": {},
          "execution_count": 15
        }
      ]
    },
    {
      "cell_type": "code",
      "source": [
        "#Recebe uma lista de frutas e\n",
        "#Retorna o quatidade de caracteres cada\n",
        "\n",
        "listaFrutas = ['goiaba','manga','carambola','banana']"
      ],
      "metadata": {
        "id": "J3_PD3pJq3ja"
      },
      "execution_count": null,
      "outputs": []
    },
    {
      "cell_type": "code",
      "source": [
        "listFrutas= list(map(lambda x : len(x), listaFrutas))\n",
        "listFrutas"
      ],
      "metadata": {
        "colab": {
          "base_uri": "https://localhost:8080/"
        },
        "id": "GWdZoFL-rbAS",
        "outputId": "e616e9f6-2198-4724-bdff-c1421069deb9"
      },
      "execution_count": null,
      "outputs": [
        {
          "output_type": "execute_result",
          "data": {
            "text/plain": [
              "[6, 5, 9, 6]"
            ]
          },
          "metadata": {},
          "execution_count": 21
        }
      ]
    },
    {
      "cell_type": "code",
      "source": [
        "#Pegar os preços de uma lista adicionar 2 a cada um deles\n",
        "\n",
        "precos = [7.50, 5.38, 10.90]"
      ],
      "metadata": {
        "id": "vcBYyc0btQaZ"
      },
      "execution_count": null,
      "outputs": []
    },
    {
      "cell_type": "code",
      "source": [
        "adicPrecos= list(map(lambda x : x+2, precos))\n",
        "adicPrecos"
      ],
      "metadata": {
        "colab": {
          "base_uri": "https://localhost:8080/"
        },
        "id": "LR6yYOKfuAFC",
        "outputId": "ae340c5a-3818-4f2c-fe79-bc3306a67c47"
      },
      "execution_count": null,
      "outputs": [
        {
          "output_type": "execute_result",
          "data": {
            "text/plain": [
              "[9.5, 7.38, 12.9]"
            ]
          },
          "metadata": {},
          "execution_count": 29
        }
      ]
    },
    {
      "cell_type": "code",
      "source": [
        "notas = [6, 7, 8, 9, 10]\n",
        "#quero apenas os aprovados\n",
        "\n",
        "aprovados = list(filter(lambda x : x>=7, notas))\n",
        "aprovados\n"
      ],
      "metadata": {
        "colab": {
          "base_uri": "https://localhost:8080/"
        },
        "id": "6Cvu0VOfv1ZX",
        "outputId": "93a6cf8e-23fc-444b-b18b-c575eca816a6"
      },
      "execution_count": null,
      "outputs": [
        {
          "output_type": "execute_result",
          "data": {
            "text/plain": [
              "[7, 8, 9, 10]"
            ]
          },
          "metadata": {},
          "execution_count": 30
        }
      ]
    },
    {
      "cell_type": "code",
      "source": [
        "#Tuplas = São imutaveis \n",
        "\n",
        "tp_frutas = ('maçã', 'banana', 'laranja','goiaba')\n",
        "tp_frutas"
      ],
      "metadata": {
        "colab": {
          "base_uri": "https://localhost:8080/"
        },
        "id": "DmQd4TSrOaWa",
        "outputId": "ecfd2ede-2f9f-423a-9ec3-8a68b6526ecc"
      },
      "execution_count": 9,
      "outputs": [
        {
          "output_type": "execute_result",
          "data": {
            "text/plain": [
              "('maçã', 'banana', 'laranja', 'goiaba')"
            ]
          },
          "metadata": {},
          "execution_count": 9
        }
      ]
    },
    {
      "cell_type": "code",
      "source": [
        "tp_frutas.count('banana')"
      ],
      "metadata": {
        "colab": {
          "base_uri": "https://localhost:8080/"
        },
        "id": "3GnTwvUUVFoJ",
        "outputId": "4891faf2-b0bb-48c5-988e-57c8647c4dbf"
      },
      "execution_count": 13,
      "outputs": [
        {
          "output_type": "execute_result",
          "data": {
            "text/plain": [
              "1"
            ]
          },
          "metadata": {},
          "execution_count": 13
        }
      ]
    },
    {
      "cell_type": "code",
      "source": [
        "#Criando ma lista a partir de uma tupla ou uma tupla a partir do \n",
        "\n",
        "lst_frutas= list(tp_frutas)\n",
        "type(lst_frutas)\n"
      ],
      "metadata": {
        "colab": {
          "base_uri": "https://localhost:8080/"
        },
        "id": "RstA6p9HW0np",
        "outputId": "a58018c1-4073-45fb-c195-48dabf147a1a"
      },
      "execution_count": 17,
      "outputs": [
        {
          "output_type": "execute_result",
          "data": {
            "text/plain": [
              "list"
            ]
          },
          "metadata": {},
          "execution_count": 17
        }
      ]
    },
    {
      "cell_type": "code",
      "source": [
        "tp_meses = ('jan','fev', 'mar', 'abr', 'mai' , 'jun', 'jul', 'ago', 'set', 'out', 'nov', 'dez')\n",
        "tp_meses[3:6]"
      ],
      "metadata": {
        "colab": {
          "base_uri": "https://localhost:8080/"
        },
        "id": "AaZ18e1JZTTU",
        "outputId": "f7f410ee-ea1d-4503-f763-a3ae48ca7ca7"
      },
      "execution_count": 19,
      "outputs": [
        {
          "output_type": "execute_result",
          "data": {
            "text/plain": [
              "('abr', 'mai', 'jun')"
            ]
          },
          "metadata": {},
          "execution_count": 19
        }
      ]
    },
    {
      "cell_type": "code",
      "source": [
        "coord = (-7.11532, -34.861)"
      ],
      "metadata": {
        "id": "qaUlrCx5a1bs"
      },
      "execution_count": 20,
      "outputs": []
    },
    {
      "cell_type": "code",
      "source": [
        "uf_cod = [('PE', 81), ('RJ', 21), ('SP', 11), ('PB', 83)]\n",
        "\n",
        "sorted(uf_cod, key = lambda x : x[1])"
      ],
      "metadata": {
        "colab": {
          "base_uri": "https://localhost:8080/"
        },
        "id": "IT3gWHtcbVXS",
        "outputId": "e78fe8fc-741c-493e-ee2f-255d09da2e62"
      },
      "execution_count": 21,
      "outputs": [
        {
          "output_type": "execute_result",
          "data": {
            "text/plain": [
              "[('SP', 11), ('RJ', 21), ('PE', 81), ('PB', 83)]"
            ]
          },
          "metadata": {},
          "execution_count": 21
        }
      ]
    },
    {
      "cell_type": "code",
      "source": [
        "#Coloque a tupla a seguir em ordem do mais novo para o mais velho\n",
        "nome_nasc = [('Zé', 2023), ('Maria',1998), ('Alice', 2000)]\n",
        "\n",
        "sorted(nome_nasc, key = lambda x : x[1], reverse = 1)"
      ],
      "metadata": {
        "colab": {
          "base_uri": "https://localhost:8080/"
        },
        "id": "MnSlzOfDcL_R",
        "outputId": "c46ac2fc-9e34-43f0-d2bc-24194afc83db"
      },
      "execution_count": 35,
      "outputs": [
        {
          "output_type": "execute_result",
          "data": {
            "text/plain": [
              "[('Zé', 2023), ('Alice', 2000), ('Maria', 1998)]"
            ]
          },
          "metadata": {},
          "execution_count": 35
        }
      ]
    },
    {
      "cell_type": "code",
      "source": [
        "#Coloque a tupla a seguir em ordem do mais velho para o mais novo\n",
        "nome_nasc = [('Zé', 2023), ('Maria',1998), ('Alice', 2000)]\n",
        "\n",
        "sorted(nome_nasc, key = lambda x : x[1])"
      ],
      "metadata": {
        "colab": {
          "base_uri": "https://localhost:8080/"
        },
        "id": "m0BS435PfNES",
        "outputId": "a636513d-a1f1-459d-fa18-9336d5c576d1"
      },
      "execution_count": 37,
      "outputs": [
        {
          "output_type": "execute_result",
          "data": {
            "text/plain": [
              "[('Maria', 1998), ('Alice', 2000), ('Zé', 2023)]"
            ]
          },
          "metadata": {},
          "execution_count": 37
        }
      ]
    },
    {
      "cell_type": "code",
      "source": [
        "def nome_idade_uf():\n",
        "  nome = 'Evelyn'\n",
        "  idade = 19\n",
        "  uf = 'PB'\n",
        "  return nome, idade, uf\n",
        "\n",
        "\n",
        "nome, age, uf = nome_idade_uf()\n",
        "\n",
        "print(nome, age, uf)"
      ],
      "metadata": {
        "colab": {
          "base_uri": "https://localhost:8080/"
        },
        "id": "vgyD6a_qlf7D",
        "outputId": "46545b3e-7b05-4806-dda7-caf42b04fbe7"
      },
      "execution_count": 41,
      "outputs": [
        {
          "output_type": "stream",
          "name": "stdout",
          "text": [
            "Evelyn 19 PB\n"
          ]
        }
      ]
    },
    {
      "cell_type": "code",
      "source": [
        "alunos = ('Verdinha', 'Magra close', 'Microsoft', 'ExTrans')\n",
        "notas = (5.5, 8, 9, 6.5)\n",
        "\n",
        "Av1 = tuple(zip(alunos, notas))\n",
        "\n",
        "Av1"
      ],
      "metadata": {
        "colab": {
          "base_uri": "https://localhost:8080/"
        },
        "id": "rENn7XTJnRwt",
        "outputId": "0cab8c8b-331f-470b-a9c5-9fcec45f5d05"
      },
      "execution_count": 42,
      "outputs": [
        {
          "output_type": "execute_result",
          "data": {
            "text/plain": [
              "(('Verdinha', 5.5), ('Magra close', 8), ('Microsoft', 9), ('ExTrans', 6.5))"
            ]
          },
          "metadata": {},
          "execution_count": 42
        }
      ]
    },
    {
      "cell_type": "code",
      "source": [
        "alunos = ('Verdinha', 'Magra close', 'Microsoft', 'ExTrans')\n",
        "notas = (5.5, 8, 9, 6.5)\n",
        "\n",
        "Av1 = tuple(zip(alunos, notas))\n",
        "dc_av1 = dict(zip(alunos, notas))\n",
        "\n",
        "dc_av1"
      ],
      "metadata": {
        "colab": {
          "base_uri": "https://localhost:8080/"
        },
        "id": "5UnWmLHso7CM",
        "outputId": "6a31834b-b4af-469c-a6a4-4ae6073ad23a"
      },
      "execution_count": 43,
      "outputs": [
        {
          "output_type": "execute_result",
          "data": {
            "text/plain": [
              "{'Verdinha': 5.5, 'Magra close': 8, 'Microsoft': 9, 'ExTrans': 6.5}"
            ]
          },
          "metadata": {},
          "execution_count": 43
        }
      ]
    },
    {
      "cell_type": "code",
      "source": [
        "def contatenaTupla (tp1, tp2):\n",
        "  return tp1 + tp2\n",
        "\n",
        "a = (2, 4, 5)\n",
        "b = (6, 8, 12)\n",
        "contatenaTupla(a, b)"
      ],
      "metadata": {
        "colab": {
          "base_uri": "https://localhost:8080/"
        },
        "id": "3hw7TZc8prCD",
        "outputId": "9b4a9a71-aca8-4422-ba49-8e89560fb49d"
      },
      "execution_count": 44,
      "outputs": [
        {
          "output_type": "execute_result",
          "data": {
            "text/plain": [
              "(2, 4, 5, 6, 8, 12)"
            ]
          },
          "metadata": {},
          "execution_count": 44
        }
      ]
    },
    {
      "cell_type": "code",
      "source": [
        "def formatada(tupla):\n",
        "  nome, logradouro, num, bairro = tupla\n",
        "  return f'Nome:{nome} , residente a {logradouro}, {num}, {bairro}.'\n",
        "\n",
        "dadosCliente = ('Evelynn', 'Puta que Pario', '42', 'Caso do Karalho')\n",
        "print (formatada(dadosCliente))"
      ],
      "metadata": {
        "colab": {
          "base_uri": "https://localhost:8080/"
        },
        "id": "Iz0geJ0bujOS",
        "outputId": "ec4ef094-9605-4af5-b0b4-703ebc12aa8d"
      },
      "execution_count": 45,
      "outputs": [
        {
          "output_type": "stream",
          "name": "stdout",
          "text": [
            "Nome:Evelynn , residente a Puta que Pario, 42, Caso do Karalho.\n"
          ]
        }
      ]
    },
    {
      "cell_type": "code",
      "source": [],
      "metadata": {
        "id": "W0Rg4eR0wQSl"
      },
      "execution_count": null,
      "outputs": []
    }
  ]
}
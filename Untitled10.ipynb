{
  "nbformat": 4,
  "nbformat_minor": 0,
  "metadata": {
    "colab": {
      "provenance": [],
      "authorship_tag": "ABX9TyMqLifdnhrwJy0qNQyteA2A",
      "include_colab_link": true
    },
    "kernelspec": {
      "name": "python3",
      "display_name": "Python 3"
    },
    "language_info": {
      "name": "python"
    }
  },
  "cells": [
    {
      "cell_type": "markdown",
      "metadata": {
        "id": "view-in-github",
        "colab_type": "text"
      },
      "source": [
        "<a href=\"https://colab.research.google.com/github/Ruanvi/SQL/blob/main/Untitled10.ipynb\" target=\"_parent\"><img src=\"https://colab.research.google.com/assets/colab-badge.svg\" alt=\"Open In Colab\"/></a>"
      ]
    },
    {
      "cell_type": "markdown",
      "source": [
        "Revisão"
      ],
      "metadata": {
        "id": "7I8ok5D-TUzr"
      }
    },
    {
      "cell_type": "code",
      "source": [
        "# Tipos primitivos de dados \n",
        "\n",
        "#40 TVs ------> int\n",
        "#R$1250.37 -------> float\n",
        "#sim -------> bool\n",
        "#Aduano -------> string\n"
      ],
      "metadata": {
        "id": "Md-plGB2TXAq"
      },
      "execution_count": 4,
      "outputs": []
    },
    {
      "cell_type": "code",
      "source": [
        "#Pegar os numeros de uma lista\n",
        "#Criar outra lista com o dobro\n",
        "\n",
        "nums = [6, 5, 2, 1, 7]\n"
      ],
      "metadata": {
        "id": "iHb3hvuUbfei"
      },
      "execution_count": 5,
      "outputs": []
    },
    {
      "cell_type": "code",
      "source": [
        "#MAP map(função, iteravel)\n",
        "nums = [6, 5, 2, 1, 7]\n",
        "newList = list(map(lambda x: x**2))"
      ],
      "metadata": {
        "id": "3hBd7nBfbpCy"
      },
      "execution_count": 13,
      "outputs": []
    },
    {
      "cell_type": "code",
      "source": [
        "#Recebe os valores de uma lista numerica e\n",
        "#Retorna o quadrado de cada numero\n",
        "\n",
        "listah = [2, 4, 6, 8, 10]"
      ],
      "metadata": {
        "id": "LbDoXZLPn8NS"
      },
      "execution_count": 14,
      "outputs": []
    },
    {
      "cell_type": "code",
      "source": [
        "\n",
        "listah = list(map(lambda x: x**2, listah))\n",
        "listah"
      ],
      "metadata": {
        "colab": {
          "base_uri": "https://localhost:8080/"
        },
        "id": "31RLNFS2pUKK",
        "outputId": "310a796b-709f-4fe4-9b81-6759643419c6"
      },
      "execution_count": 15,
      "outputs": [
        {
          "output_type": "execute_result",
          "data": {
            "text/plain": [
              "[4, 16, 36, 64, 100]"
            ]
          },
          "metadata": {},
          "execution_count": 15
        }
      ]
    },
    {
      "cell_type": "code",
      "source": [
        "#Recebe uma lista de frutas e\n",
        "#Retorna o quatidade de caracteres cada\n",
        "\n",
        "listaFrutas = ['goiaba','manga','carambola','banana']"
      ],
      "metadata": {
        "id": "J3_PD3pJq3ja"
      },
      "execution_count": 16,
      "outputs": []
    },
    {
      "cell_type": "code",
      "source": [
        "listFrutas= list(map(lambda x : len(x), listaFrutas))\n",
        "listFrutas"
      ],
      "metadata": {
        "colab": {
          "base_uri": "https://localhost:8080/"
        },
        "id": "GWdZoFL-rbAS",
        "outputId": "e616e9f6-2198-4724-bdff-c1421069deb9"
      },
      "execution_count": 21,
      "outputs": [
        {
          "output_type": "execute_result",
          "data": {
            "text/plain": [
              "[6, 5, 9, 6]"
            ]
          },
          "metadata": {},
          "execution_count": 21
        }
      ]
    },
    {
      "cell_type": "code",
      "source": [
        "#Pegar os preços de uma lista adicionar 2 a cada um deles\n",
        "\n",
        "precos = [7.50, 5.38, 10.90]"
      ],
      "metadata": {
        "id": "vcBYyc0btQaZ"
      },
      "execution_count": 27,
      "outputs": []
    },
    {
      "cell_type": "code",
      "source": [
        "adicPrecos= list(map(lambda x : x+2, precos))\n",
        "adicPrecos"
      ],
      "metadata": {
        "colab": {
          "base_uri": "https://localhost:8080/"
        },
        "id": "LR6yYOKfuAFC",
        "outputId": "ae340c5a-3818-4f2c-fe79-bc3306a67c47"
      },
      "execution_count": 29,
      "outputs": [
        {
          "output_type": "execute_result",
          "data": {
            "text/plain": [
              "[9.5, 7.38, 12.9]"
            ]
          },
          "metadata": {},
          "execution_count": 29
        }
      ]
    },
    {
      "cell_type": "code",
      "source": [
        "notas = [6, 7, 8, 9, 10]\n",
        "#quero apenas os aprovados\n",
        "\n",
        "aprovados = list(filter(lambda x : x>=7, notas))\n",
        "aprovados\n"
      ],
      "metadata": {
        "colab": {
          "base_uri": "https://localhost:8080/"
        },
        "id": "6Cvu0VOfv1ZX",
        "outputId": "93a6cf8e-23fc-444b-b18b-c575eca816a6"
      },
      "execution_count": 30,
      "outputs": [
        {
          "output_type": "execute_result",
          "data": {
            "text/plain": [
              "[7, 8, 9, 10]"
            ]
          },
          "metadata": {},
          "execution_count": 30
        }
      ]
    }
  ]
}
{
  "nbformat": 4,
  "nbformat_minor": 0,
  "metadata": {
    "colab": {
      "provenance": [],
      "authorship_tag": "ABX9TyOM4Sx8DJBQa3gOQUJHUHhQ",
      "include_colab_link": true
    },
    "kernelspec": {
      "name": "python3",
      "display_name": "Python 3"
    },
    "language_info": {
      "name": "python"
    }
  },
  "cells": [
    {
      "cell_type": "markdown",
      "metadata": {
        "id": "view-in-github",
        "colab_type": "text"
      },
      "source": [
        "<a href=\"https://colab.research.google.com/github/Ruanvi/SQL/blob/main/Desafio.ipynb\" target=\"_parent\"><img src=\"https://colab.research.google.com/assets/colab-badge.svg\" alt=\"Open In Colab\"/></a>"
      ]
    },
    {
      "cell_type": "code",
      "execution_count": 1,
      "metadata": {
        "id": "pkzBj5TpaNOY"
      },
      "outputs": [],
      "source": [
        "tarefas = []"
      ]
    },
    {
      "cell_type": "code",
      "source": [
        "def adicionar_tarefa():\n",
        "    nome = input(\"Digite o nome da tarefa: \")\n",
        "    id = len(tarefas)\n",
        "    tarefa = {\"id\": id, \"tarefa\": nome, \"status\": \"pendente\"}\n",
        "    tarefas.append(tarefa)\n",
        "    print(\"Tarefa adicionada com sucesso!\")\n",
        "     "
      ],
      "metadata": {
        "id": "xCQSuGs8aSyC"
      },
      "execution_count": 2,
      "outputs": []
    },
    {
      "cell_type": "code",
      "source": [
        "prox_id = 0\n",
        "\n",
        "def adicionar_tarefa():\n",
        "    global prox_id\n",
        "    nome = input(\"Digite o nome da tarefa: \")\n",
        "    tarefa = {\"id\": prox_id, \"tarefa\": nome, \"status\": \"pendente\"}\n",
        "    tarefas.append(tarefa)\n",
        "    prox_id += 1\n",
        "    print(\"Tarefa adicionada com sucesso!\")\n",
        "     \n"
      ],
      "metadata": {
        "id": "fHg3nw2gcWkL"
      },
      "execution_count": 3,
      "outputs": []
    },
    {
      "cell_type": "code",
      "source": [
        "tarefas = []\n",
        "prox_id = 0\n",
        "\n",
        "def adicionar_tarefa():\n",
        "    global prox_id\n",
        "    nome = input(\"Digite o nome da tarefa: \")\n",
        "    tarefa = {\"id\": prox_id, \"tarefa\": nome, \"status\": \"pendente\"}\n",
        "    tarefas.append(tarefa)\n",
        "    prox_id += 1\n",
        "    print(\"Tarefa adicionada com sucesso!\")\n",
        "\n",
        "\n",
        "adicionar_tarefa()\n",
        "print(tarefas)\n",
        "     "
      ],
      "metadata": {
        "colab": {
          "base_uri": "https://localhost:8080/"
        },
        "id": "inaTkp8nccKb",
        "outputId": "598473a2-469c-446a-bf4d-7263253dd111"
      },
      "execution_count": 4,
      "outputs": [
        {
          "output_type": "stream",
          "name": "stdout",
          "text": [
            "Digite o nome da tarefa: fisica\n",
            "Tarefa adicionada com sucesso!\n",
            "[{'id': 0, 'tarefa': 'fisica', 'status': 'pendente'}]\n"
          ]
        }
      ]
    },
    {
      "cell_type": "code",
      "source": [
        "tarefas = []\n",
        "prox_id = 0\n",
        "\n",
        "def adicionar_tarefa(nome):\n",
        "    global prox_id\n",
        "    tarefa = {\"id\": prox_id, \"tarefa\": nome, \"status\": \"pendente\"}\n",
        "    tarefas.append(tarefa)\n",
        "    prox_id += 1\n",
        "    print(\"Tarefa adicionada com sucesso!\")\n",
        "\n",
        "\n",
        "tarefas_cadastro = [\"Estudar python\", \"Programar site\", \"Comprar mouse\", \"Correr 4km\", \"Pegar documentos\", \"Responder email\"]\n",
        "for tarefa in tarefas_cadastro:\n",
        "    adicionar_tarefa(tarefa)\n",
        "\n",
        "\n",
        "print(tarefas)"
      ],
      "metadata": {
        "colab": {
          "base_uri": "https://localhost:8080/"
        },
        "id": "UyYNBUf-ciaE",
        "outputId": "7aad340f-95d1-4a77-cb4e-73644357613c"
      },
      "execution_count": 5,
      "outputs": [
        {
          "output_type": "stream",
          "name": "stdout",
          "text": [
            "Tarefa adicionada com sucesso!\n",
            "Tarefa adicionada com sucesso!\n",
            "Tarefa adicionada com sucesso!\n",
            "Tarefa adicionada com sucesso!\n",
            "Tarefa adicionada com sucesso!\n",
            "Tarefa adicionada com sucesso!\n",
            "[{'id': 0, 'tarefa': 'Estudar python', 'status': 'pendente'}, {'id': 1, 'tarefa': 'Programar site', 'status': 'pendente'}, {'id': 2, 'tarefa': 'Comprar mouse', 'status': 'pendente'}, {'id': 3, 'tarefa': 'Correr 4km', 'status': 'pendente'}, {'id': 4, 'tarefa': 'Pegar documentos', 'status': 'pendente'}, {'id': 5, 'tarefa': 'Responder email', 'status': 'pendente'}]\n"
          ]
        }
      ]
    },
    {
      "cell_type": "code",
      "source": [
        "def listar_tarefas():\n",
        "    if len(tarefas) == 0:\n",
        "        print(\"Não há tarefas cadastradas.\")\n",
        "    else:\n",
        "        for tarefa in tarefas:\n",
        "            print(f\"Tarefa: {tarefa['tarefa']}, Status: {tarefa['status']}\")\n",
        "\n",
        "\n",
        "listar_tarefas()"
      ],
      "metadata": {
        "colab": {
          "base_uri": "https://localhost:8080/"
        },
        "id": "Mg2SyhUxclOL",
        "outputId": "85762186-87c3-4aed-e1b7-0a33362bab32"
      },
      "execution_count": 6,
      "outputs": [
        {
          "output_type": "stream",
          "name": "stdout",
          "text": [
            "Tarefa: Estudar python, Status: pendente\n",
            "Tarefa: Programar site, Status: pendente\n",
            "Tarefa: Comprar mouse, Status: pendente\n",
            "Tarefa: Correr 4km, Status: pendente\n",
            "Tarefa: Pegar documentos, Status: pendente\n",
            "Tarefa: Responder email, Status: pendente\n"
          ]
        }
      ]
    },
    {
      "cell_type": "code",
      "source": [
        "def alterar_status():\n",
        "    id = int(input(\"Digite o ID da tarefa a ser concluída: \"))\n",
        "    for tarefa in tarefas:\n",
        "        if tarefa[\"id\"] == id:\n",
        "            tarefa[\"status\"] = \"concluída\"\n",
        "            print(\"Status da tarefa alterado para concluída.\")\n",
        "            return\n",
        "    print(\"ID de tarefa inválido.\")\n",
        "\n",
        "\n",
        "alterar_status()\n",
        "listar_tarefas()"
      ],
      "metadata": {
        "colab": {
          "base_uri": "https://localhost:8080/"
        },
        "id": "O0CLLWuscn8j",
        "outputId": "cbb475b2-f0d5-4b8d-9b5c-0dde015837e5"
      },
      "execution_count": 7,
      "outputs": [
        {
          "output_type": "stream",
          "name": "stdout",
          "text": [
            "Digite o ID da tarefa a ser concluída: 200201\n",
            "ID de tarefa inválido.\n",
            "Tarefa: Estudar python, Status: pendente\n",
            "Tarefa: Programar site, Status: pendente\n",
            "Tarefa: Comprar mouse, Status: pendente\n",
            "Tarefa: Correr 4km, Status: pendente\n",
            "Tarefa: Pegar documentos, Status: pendente\n",
            "Tarefa: Responder email, Status: pendente\n"
          ]
        }
      ]
    },
    {
      "cell_type": "code",
      "source": [
        "def deletar_tarefa():\n",
        "    id = int(input(\"Digite o ID da tarefa a ser deletada: \"))\n",
        "    for tarefa in tarefas:\n",
        "        if tarefa[\"id\"] == id:\n",
        "            tarefas.remove(tarefa)\n",
        "            print(\"Tarefa deletada.\")\n",
        "            return\n",
        "    print(\"ID de tarefa inválido.\")\n",
        "\n",
        "\n",
        "deletar_tarefa()\n",
        "listar_tarefas()"
      ],
      "metadata": {
        "colab": {
          "base_uri": "https://localhost:8080/"
        },
        "id": "_UREU0gkcqbL",
        "outputId": "2dc59098-f5f4-41e4-8c4e-2d9ab87337ab"
      },
      "execution_count": 8,
      "outputs": [
        {
          "output_type": "stream",
          "name": "stdout",
          "text": [
            "Digite o ID da tarefa a ser deletada: 200201\n",
            "ID de tarefa inválido.\n",
            "Tarefa: Estudar python, Status: pendente\n",
            "Tarefa: Programar site, Status: pendente\n",
            "Tarefa: Comprar mouse, Status: pendente\n",
            "Tarefa: Correr 4km, Status: pendente\n",
            "Tarefa: Pegar documentos, Status: pendente\n",
            "Tarefa: Responder email, Status: pendente\n"
          ]
        }
      ]
    },
    {
      "cell_type": "code",
      "source": [
        "def listar_tarefas_pendentes():\n",
        "    tarefas_pendentes = [tarefa for tarefa in tarefas if tarefa['status'] == 'pendente']\n",
        "    if len(tarefas_pendentes) == 0:\n",
        "        print(\"Não há tarefas pendentes.\")\n",
        "    else:\n",
        "        for tarefa in tarefas_pendentes:\n",
        "            print(f\"Tarefa: {tarefa['tarefa']}, Status: {tarefa['status']}\")\n",
        "\n",
        "\n",
        "listar_tarefas_pendentes()\n",
        "     "
      ],
      "metadata": {
        "colab": {
          "base_uri": "https://localhost:8080/"
        },
        "id": "sDlOjbYfcrkz",
        "outputId": "4a11558e-44af-4509-d33c-2056c02041b8"
      },
      "execution_count": 9,
      "outputs": [
        {
          "output_type": "stream",
          "name": "stdout",
          "text": [
            "Tarefa: Estudar python, Status: pendente\n",
            "Tarefa: Programar site, Status: pendente\n",
            "Tarefa: Comprar mouse, Status: pendente\n",
            "Tarefa: Correr 4km, Status: pendente\n",
            "Tarefa: Pegar documentos, Status: pendente\n",
            "Tarefa: Responder email, Status: pendente\n"
          ]
        }
      ]
    }
  ]
}
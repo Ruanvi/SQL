{
  "nbformat": 4,
  "nbformat_minor": 0,
  "metadata": {
    "colab": {
      "provenance": [],
      "authorship_tag": "ABX9TyNAAEdZ7zAeLxfeSwY44tPL",
      "include_colab_link": true
    },
    "kernelspec": {
      "name": "python3",
      "display_name": "Python 3"
    },
    "language_info": {
      "name": "python"
    }
  },
  "cells": [
    {
      "cell_type": "markdown",
      "metadata": {
        "id": "view-in-github",
        "colab_type": "text"
      },
      "source": [
        "<a href=\"https://colab.research.google.com/github/Ruanvi/SQL/blob/main/Atividade9.ipynb\" target=\"_parent\"><img src=\"https://colab.research.google.com/assets/colab-badge.svg\" alt=\"Open In Colab\"/></a>"
      ]
    },
    {
      "cell_type": "code",
      "execution_count": 38,
      "metadata": {
        "id": "GG1wtOI7E-S4",
        "colab": {
          "base_uri": "https://localhost:8080/"
        },
        "outputId": "956ca606-380c-4e54-da43-caa9077d9b56"
      },
      "outputs": [
        {
          "output_type": "execute_result",
          "data": {
            "text/plain": [
              "['Ana Luiza', 'Annie', 'Annabele']"
            ]
          },
          "metadata": {},
          "execution_count": 38
        }
      ],
      "source": [
        "palavra = ['Ana Luiza', 'Annie', 'Annabele']\n",
        "palavra"
      ]
    },
    {
      "cell_type": "code",
      "source": [
        "def listaLetraA(palavras):\n",
        "  cont = [0]\n",
        "  wordA = []\n",
        "  for i in palavras:\n",
        "     if(i[0] == 'A'):\n",
        "       wordA.append(i)\n",
        "  print(len(wordA))\n",
        "  return wordA"
      ],
      "metadata": {
        "id": "GcKih9nnFHFT"
      },
      "execution_count": 68,
      "outputs": []
    },
    {
      "cell_type": "code",
      "source": [
        "nomes = ['Ana Luiza', 'Annie', 'Annabele']\n",
        "listaLetraA(nomes)"
      ],
      "metadata": {
        "id": "AjJt_DIIQeWf"
      },
      "execution_count": null,
      "outputs": []
    },
    {
      "cell_type": "code",
      "source": [
        "def produtos(numeros):\n",
        "  resultado = 1\n",
        "  for n in numeros:\n",
        "    resultado *= n\n",
        "  return resultado\n",
        "\n",
        "numeros = [2, 4, 8, 16, 32, 64]\n",
        "produtos(numeros)\n"
      ],
      "metadata": {
        "colab": {
          "base_uri": "https://localhost:8080/"
        },
        "id": "3nM4CBRDaYe9",
        "outputId": "dec2fe0f-3628-4469-f0a5-c53dd82855f6"
      },
      "execution_count": 80,
      "outputs": [
        {
          "output_type": "execute_result",
          "data": {
            "text/plain": [
              "2097152"
            ]
          },
          "metadata": {},
          "execution_count": 80
        }
      ]
    },
    {
      "cell_type": "code",
      "source": [
        "def somatorio(numeros):\n",
        "  soma = 0\n",
        "  for n in numeros:\n",
        "    if n % 2 == 0:\n",
        "      soma += n\n",
        "  return soma"
      ],
      "metadata": {
        "id": "tg9TzA8eSt8l"
      },
      "execution_count": 81,
      "outputs": []
    },
    {
      "cell_type": "code",
      "source": [
        "somatorio(numeros)"
      ],
      "metadata": {
        "colab": {
          "base_uri": "https://localhost:8080/"
        },
        "id": "F28tbPySaBar",
        "outputId": "a8c5132a-6c64-48ab-9b26-90e0e6484203"
      },
      "execution_count": 82,
      "outputs": [
        {
          "output_type": "execute_result",
          "data": {
            "text/plain": [
              "126"
            ]
          },
          "metadata": {},
          "execution_count": 82
        }
      ]
    },
    {
      "cell_type": "code",
      "source": [
        "users = ['magra close', 'verdinha', 'microsoft', 'ex-trans']\n",
        "\n",
        "maior = ' '\n",
        "for u in users:\n",
        "  if(len(u) >= len(maior)):\n",
        "    maior = u\n",
        "print(maior)"
      ],
      "metadata": {
        "colab": {
          "base_uri": "https://localhost:8080/"
        },
        "id": "gOXH-vUpjDik",
        "outputId": "6eefc421-2c82-4b39-81f7-58d0f9551d1f"
      },
      "execution_count": 85,
      "outputs": [
        {
          "output_type": "stream",
          "name": "stdout",
          "text": [
            "magra close\n"
          ]
        }
      ]
    },
    {
      "cell_type": "markdown",
      "source": [
        "Recursão"
      ],
      "metadata": {
        "id": "umr7Im1JqQjS"
      }
    },
    {
      "cell_type": "code",
      "source": [
        "def fatorial(n):\n",
        "  if(n <= 1):\n",
        "    return 1\n",
        "  else:\n",
        "    return n * fatorial(n - 1)"
      ],
      "metadata": {
        "id": "pGgIJghVqVG6"
      },
      "execution_count": 86,
      "outputs": []
    },
    {
      "cell_type": "code",
      "source": [
        "fatorial(5)"
      ],
      "metadata": {
        "colab": {
          "base_uri": "https://localhost:8080/"
        },
        "id": "LpfHGK9OrIbZ",
        "outputId": "a5b25160-3615-465c-aace-67ec2c7e8405"
      },
      "execution_count": 87,
      "outputs": [
        {
          "output_type": "execute_result",
          "data": {
            "text/plain": [
              "120"
            ]
          },
          "metadata": {},
          "execution_count": 87
        }
      ]
    }
  ]
}